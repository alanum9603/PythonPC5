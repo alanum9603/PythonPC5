{
 "cells": [
  {
   "cell_type": "markdown",
   "metadata": {},
   "source": [
    "# Caso 03\n",
    "#### Importamos pandas"
   ]
  },
  {
   "cell_type": "code",
   "execution_count": 1,
   "metadata": {},
   "outputs": [],
   "source": [
    "import pandas as pd"
   ]
  },
  {
   "cell_type": "markdown",
   "metadata": {},
   "source": [
    "#### Asignamos la ruta del archivo a una variable y leemos y guardamos los datos del archivo en una variable"
   ]
  },
  {
   "cell_type": "code",
   "execution_count": 2,
   "metadata": {},
   "outputs": [
    {
     "name": "stdout",
     "output_type": "stream",
     "text": [
      "<class 'pandas.core.frame.DataFrame'>\n"
     ]
    }
   ],
   "source": [
    "ruta_csv = './src/airbnb.csv'\n",
    "df = pd.read_csv(ruta_csv)\n",
    "print(type(df))"
   ]
  },
  {
   "cell_type": "code",
   "execution_count": 36,
   "metadata": {},
   "outputs": [],
   "source": [
    "condicion = (df['price'] < 50) & (df['room_type'] == 'Shared room')\n",
    "df_filtrado = df[condicion]"
   ]
  },
  {
   "cell_type": "code",
   "execution_count": 39,
   "metadata": {},
   "outputs": [],
   "source": [
    "df_ordenado = df_filtrado.sort_values(by=['price','overall_satisfaction'], ascending=[True,False])"
   ]
  },
  {
   "cell_type": "code",
   "execution_count": 40,
   "metadata": {},
   "outputs": [
    {
     "data": {
      "text/html": [
       "<div>\n",
       "<style scoped>\n",
       "    .dataframe tbody tr th:only-of-type {\n",
       "        vertical-align: middle;\n",
       "    }\n",
       "\n",
       "    .dataframe tbody tr th {\n",
       "        vertical-align: top;\n",
       "    }\n",
       "\n",
       "    .dataframe thead th {\n",
       "        text-align: right;\n",
       "    }\n",
       "</style>\n",
       "<table border=\"1\" class=\"dataframe\">\n",
       "  <thead>\n",
       "    <tr style=\"text-align: right;\">\n",
       "      <th></th>\n",
       "      <th>room_id</th>\n",
       "      <th>host_id</th>\n",
       "      <th>room_type</th>\n",
       "      <th>neighborhood</th>\n",
       "      <th>reviews</th>\n",
       "      <th>overall_satisfaction</th>\n",
       "      <th>accommodates</th>\n",
       "      <th>bedrooms</th>\n",
       "      <th>price</th>\n",
       "    </tr>\n",
       "  </thead>\n",
       "  <tbody>\n",
       "    <tr>\n",
       "      <th>1010</th>\n",
       "      <td>1179457</td>\n",
       "      <td>5799522</td>\n",
       "      <td>Shared room</td>\n",
       "      <td>Santo António</td>\n",
       "      <td>42</td>\n",
       "      <td>4.0</td>\n",
       "      <td>16</td>\n",
       "      <td>1.0</td>\n",
       "      <td>10.0</td>\n",
       "    </tr>\n",
       "    <tr>\n",
       "      <th>3562</th>\n",
       "      <td>5557699</td>\n",
       "      <td>28812904</td>\n",
       "      <td>Shared room</td>\n",
       "      <td>Santa Maria Maior</td>\n",
       "      <td>22</td>\n",
       "      <td>4.0</td>\n",
       "      <td>1</td>\n",
       "      <td>1.0</td>\n",
       "      <td>10.0</td>\n",
       "    </tr>\n",
       "    <tr>\n",
       "      <th>7584</th>\n",
       "      <td>13116032</td>\n",
       "      <td>72951043</td>\n",
       "      <td>Shared room</td>\n",
       "      <td>Arroios</td>\n",
       "      <td>1</td>\n",
       "      <td>0.0</td>\n",
       "      <td>8</td>\n",
       "      <td>1.0</td>\n",
       "      <td>10.0</td>\n",
       "    </tr>\n",
       "    <tr>\n",
       "      <th>13148</th>\n",
       "      <td>19314160</td>\n",
       "      <td>135270245</td>\n",
       "      <td>Shared room</td>\n",
       "      <td>Santa Clara</td>\n",
       "      <td>0</td>\n",
       "      <td>0.0</td>\n",
       "      <td>1</td>\n",
       "      <td>1.0</td>\n",
       "      <td>10.0</td>\n",
       "    </tr>\n",
       "    <tr>\n",
       "      <th>9065</th>\n",
       "      <td>14933182</td>\n",
       "      <td>91501272</td>\n",
       "      <td>Shared room</td>\n",
       "      <td>Santo António</td>\n",
       "      <td>5</td>\n",
       "      <td>5.0</td>\n",
       "      <td>8</td>\n",
       "      <td>1.0</td>\n",
       "      <td>11.0</td>\n",
       "    </tr>\n",
       "    <tr>\n",
       "      <th>4353</th>\n",
       "      <td>6728244</td>\n",
       "      <td>28812904</td>\n",
       "      <td>Shared room</td>\n",
       "      <td>Santa Maria Maior</td>\n",
       "      <td>8</td>\n",
       "      <td>4.5</td>\n",
       "      <td>1</td>\n",
       "      <td>1.0</td>\n",
       "      <td>11.0</td>\n",
       "    </tr>\n",
       "    <tr>\n",
       "      <th>5616</th>\n",
       "      <td>9317561</td>\n",
       "      <td>48360716</td>\n",
       "      <td>Shared room</td>\n",
       "      <td>Arroios</td>\n",
       "      <td>13</td>\n",
       "      <td>4.5</td>\n",
       "      <td>4</td>\n",
       "      <td>1.0</td>\n",
       "      <td>11.0</td>\n",
       "    </tr>\n",
       "    <tr>\n",
       "      <th>6640</th>\n",
       "      <td>11693356</td>\n",
       "      <td>28812904</td>\n",
       "      <td>Shared room</td>\n",
       "      <td>Santa Maria Maior</td>\n",
       "      <td>3</td>\n",
       "      <td>4.5</td>\n",
       "      <td>1</td>\n",
       "      <td>1.0</td>\n",
       "      <td>11.0</td>\n",
       "    </tr>\n",
       "    <tr>\n",
       "      <th>6641</th>\n",
       "      <td>11693442</td>\n",
       "      <td>28812904</td>\n",
       "      <td>Shared room</td>\n",
       "      <td>Santa Maria Maior</td>\n",
       "      <td>16</td>\n",
       "      <td>4.5</td>\n",
       "      <td>1</td>\n",
       "      <td>1.0</td>\n",
       "      <td>11.0</td>\n",
       "    </tr>\n",
       "    <tr>\n",
       "      <th>8908</th>\n",
       "      <td>14708916</td>\n",
       "      <td>91501272</td>\n",
       "      <td>Shared room</td>\n",
       "      <td>Santo António</td>\n",
       "      <td>18</td>\n",
       "      <td>4.5</td>\n",
       "      <td>4</td>\n",
       "      <td>1.0</td>\n",
       "      <td>11.0</td>\n",
       "    </tr>\n",
       "  </tbody>\n",
       "</table>\n",
       "</div>"
      ],
      "text/plain": [
       "        room_id    host_id    room_type       neighborhood  reviews  \\\n",
       "1010    1179457    5799522  Shared room      Santo António       42   \n",
       "3562    5557699   28812904  Shared room  Santa Maria Maior       22   \n",
       "7584   13116032   72951043  Shared room            Arroios        1   \n",
       "13148  19314160  135270245  Shared room        Santa Clara        0   \n",
       "9065   14933182   91501272  Shared room      Santo António        5   \n",
       "4353    6728244   28812904  Shared room  Santa Maria Maior        8   \n",
       "5616    9317561   48360716  Shared room            Arroios       13   \n",
       "6640   11693356   28812904  Shared room  Santa Maria Maior        3   \n",
       "6641   11693442   28812904  Shared room  Santa Maria Maior       16   \n",
       "8908   14708916   91501272  Shared room      Santo António       18   \n",
       "\n",
       "       overall_satisfaction  accommodates  bedrooms  price  \n",
       "1010                    4.0            16       1.0   10.0  \n",
       "3562                    4.0             1       1.0   10.0  \n",
       "7584                    0.0             8       1.0   10.0  \n",
       "13148                   0.0             1       1.0   10.0  \n",
       "9065                    5.0             8       1.0   11.0  \n",
       "4353                    4.5             1       1.0   11.0  \n",
       "5616                    4.5             4       1.0   11.0  \n",
       "6640                    4.5             1       1.0   11.0  \n",
       "6641                    4.5             1       1.0   11.0  \n",
       "8908                    4.5             4       1.0   11.0  "
      ]
     },
     "execution_count": 40,
     "metadata": {},
     "output_type": "execute_result"
    }
   ],
   "source": [
    "df_ordenado.head(10)"
   ]
  }
 ],
 "metadata": {
  "kernelspec": {
   "display_name": "Python 3",
   "language": "python",
   "name": "python3"
  },
  "language_info": {
   "codemirror_mode": {
    "name": "ipython",
    "version": 3
   },
   "file_extension": ".py",
   "mimetype": "text/x-python",
   "name": "python",
   "nbconvert_exporter": "python",
   "pygments_lexer": "ipython3",
   "version": "3.10.13"
  }
 },
 "nbformat": 4,
 "nbformat_minor": 2
}
